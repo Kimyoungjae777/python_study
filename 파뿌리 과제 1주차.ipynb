{
 "cells": [
  {
   "cell_type": "code",
   "execution_count": 4,
   "metadata": {},
   "outputs": [
    {
     "name": "stdout",
     "output_type": "stream",
     "text": [
      "홍길동의 평균은 53.333333333333336 입니다\n"
     ]
    }
   ],
   "source": [
    "#1번문제.홍길동 씨의 국어,수학,영어의 점수는 차례대로 50,80,30이다 모두 변수로 선언하고 평균 출력하라\n",
    "korean=50\n",
    "math=80\n",
    "english=30\n",
    "avg=(korean+math+english)/3\n",
    "print(\"홍길동의 평균은\",avg,\"입니다\")\n",
    "\n"
   ]
  },
  {
   "cell_type": "code",
   "execution_count": 5,
   "metadata": {},
   "outputs": [
    {
     "name": "stdout",
     "output_type": "stream",
     "text": [
      "4029298570은 짝수입니다\n"
     ]
    }
   ],
   "source": [
    "#2번문제 자연수 4029298570이 짝수인지 프로그래밍으로 판별하라\n",
    "num=4029298570\n",
    "if num%2==0:\n",
    "    print(\"4029298570은 짝수입니다\")\n",
    "else:\n",
    "    print(\"4029298570은 홀수입니다\")"
   ]
  },
  {
   "cell_type": "code",
   "execution_count": 28,
   "metadata": {},
   "outputs": [
    {
     "data": {
      "text/plain": [
       "'국어,수학,영어,프로그래밍'"
      ]
     },
     "execution_count": 28,
     "metadata": {},
     "output_type": "execute_result"
    }
   ],
   "source": [
    "#3다음과 같이\"국어:수학:영어:프로그래밍\" 이라는 문자열이 있다. 내장함수를 이용하여 \"국어,수학,영어,프로그래밍\" 으로 바꾸어라\n",
    "str=\"국어:수학:영어:프로그래밍\"\n",
    "str2=str[:2]\n",
    "str3=str[3:5]\n",
    "str4=str[6:8]\n",
    "str5=str[9:]\n",
    "str=str2+','+str3+','+str4+','+str5\n",
    "str\n",
    "#문자열은 요소들을 변환할 수 없기 때문에 하나하나 슬라이싱 하여 조합 하여주었다#"
   ]
  },
  {
   "cell_type": "code",
   "execution_count": 40,
   "metadata": {},
   "outputs": [
    {
     "data": {
      "text/plain": [
       "[5, 80, 3, 70, 1]"
      ]
     },
     "execution_count": 40,
     "metadata": {},
     "output_type": "execute_result"
    }
   ],
   "source": [
    "#4.다음과 같은 리스트가 있다. [1, 70, 3, 80, 5]. 내장함수를 이용해서 뒤집어서 [5, 80, 3, 70, 1]로 만들고 출력하라.\n",
    "num=[1,70,3,80,5]\n",
    "num.reverse()\n",
    "num\n"
   ]
  },
  {
   "cell_type": "code",
   "execution_count": 44,
   "metadata": {},
   "outputs": [
    {
     "data": {
      "text/plain": [
       "'파이썬은 정말 편하다'"
      ]
     },
     "execution_count": 44,
     "metadata": {},
     "output_type": "execute_result"
    }
   ],
   "source": [
    "#5.다음과 같은 리스트가 있다. [\"파이썬은\", \"정말\", \"편하다\"]. 내장함수를 이용하여 \"파이썬은 정말 편하다\"를 만들고 출력하라.\n",
    "str=[\"파이썬은\",\"정말\",\"편하다\"]\n",
    "str=str[0]+\" \"+str[1]+\" \"+str[2]\n",
    "str\n",
    "#해보긴 해봤는데 무언가 더 좋은 방법이 있을것 같습니다 있으면 알려주시면 감사하겠습니다#"
   ]
  },
  {
   "cell_type": "code",
   "execution_count": 2,
   "metadata": {},
   "outputs": [
    {
     "data": {
      "text/plain": [
       "[1, 3, 4, 5, 10, 50, 410]"
      ]
     },
     "execution_count": 2,
     "metadata": {},
     "output_type": "execute_result"
    }
   ],
   "source": [
    "#6.다음과 같은 리스트가 있다. [1, 50, 410, 10, 3, 4, 5]. 내장함수를 이용해서 오름차순으로 정렬하고 출력하라.\n",
    "a=[1,50,410,10,3,4,5]\n",
    "a.sort()\n",
    "a"
   ]
  },
  {
   "cell_type": "code",
   "execution_count": 25,
   "metadata": {},
   "outputs": [
    {
     "data": {
      "text/plain": [
       "'I love python'"
      ]
     },
     "execution_count": 25,
     "metadata": {},
     "output_type": "execute_result"
    }
   ],
   "source": [
    "#7.다음과 같은 문자열이 있다. \" I love python \". 양쪽의 공백을 내장함수를 이용해서 지우고 출력하라.\n",
    "str=\"I love python\"\n",
    "str.strip()\n",
    "# 양쪽 공백 지우기 함수로 strip 함수를 사용하여 주었는데 공백이 지워지지 않습니다#"
   ]
  },
  {
   "cell_type": "code",
   "execution_count": 14,
   "metadata": {},
   "outputs": [
    {
     "name": "stdout",
     "output_type": "stream",
     "text": [
      "5050\n"
     ]
    }
   ],
   "source": [
    "#제어문#\n",
    "#1.for문을 이용해서 1부터 100까지의 수를 더하고 출력하라\n",
    "add=0\n",
    "for i in range(1,101):\n",
    "    add=add+i\n",
    "print(add)"
   ]
  },
  {
   "cell_type": "code",
   "execution_count": 27,
   "metadata": {},
   "outputs": [
    {
     "name": "stdout",
     "output_type": "stream",
     "text": [
      "5050\n"
     ]
    }
   ],
   "source": [
    "#2.while 문을 이용해서 1부터 100까지의 수를 더하고 출력하라.\n",
    "num=0\n",
    "add=0\n",
    "while num<100:\n",
    "    num=num+1\n",
    "    add=add+num\n",
    "print(add)\n",
    "    "
   ]
  },
  {
   "cell_type": "code",
   "execution_count": 31,
   "metadata": {},
   "outputs": [
    {
     "name": "stdout",
     "output_type": "stream",
     "text": [
      "1683\n"
     ]
    }
   ],
   "source": [
    "#3.1부터 100까지 3의 배수만 더하고 출력하라.\n",
    "num=0\n",
    "for i in range(1,101):\n",
    "    if(i%3==0):\n",
    "        num=num+i\n",
    "print(num)"
   ]
  },
  {
   "cell_type": "code",
   "execution_count": 37,
   "metadata": {},
   "outputs": [
    {
     "name": "stdout",
     "output_type": "stream",
     "text": [
      "79.0\n"
     ]
    }
   ],
   "source": [
    "#4.학급에는 10명의 학생이 있고, 이 학생들의 중간고사 점수는 다음과 같다. [70, 60, 55, 75, 95, 90, 80, 80, 85, 100]. for문을 사용해서 A학급의 평균 점수를 구하고 출력하라.\n",
    "clas=[70,60,55,75,95,90,80,80,85,100]\n",
    "avg=0\n",
    "tot=0\n",
    "for i in clas:\n",
    "    tot=tot+i\n",
    "avg=tot/10\n",
    "print(avg)"
   ]
  },
  {
   "cell_type": "code",
   "execution_count": 7,
   "metadata": {},
   "outputs": [
    {
     "name": "stdout",
     "output_type": "stream",
     "text": [
      "[2, 6, 10, 40, 90, 100, 2020]\n"
     ]
    }
   ],
   "source": [
    "#5다음과 같은 리스트가 있다. [1, 3, 5, 40, 90, 100, 2020]. for문을 사용해서 홀수에만 2를 곱하고 리스트를 출력하라.\n",
    "num=[1,3,5,40,90,100,2020]\n",
    "for i in range(6):\n",
    "    if num[i] %2==1:\n",
    "        num[i]=num[i]*2\n",
    "print(num)      \n",
    "\n",
    "        \n",
    "    "
   ]
  },
  {
   "cell_type": "code",
   "execution_count": 9,
   "metadata": {},
   "outputs": [
    {
     "name": "stdout",
     "output_type": "stream",
     "text": [
      "*\n",
      "**\n",
      "***\n",
      "****\n",
      "*****\n"
     ]
    }
   ],
   "source": [
    "#6 for문을 이용해서  계단 별을 출력하라\n",
    "for i in range(5):\n",
    "    for j in range(5):\n",
    "        if i>=j:\n",
    "            print(\"*\",end='') # 별 출력, end에 ''를 지정하여 줄바꿈 x\n",
    "    print()#한줄 찍고 j 루프 탈출후 줄바꿈\n",
    "            "
   ]
  },
  {
   "cell_type": "code",
   "execution_count": 29,
   "metadata": {},
   "outputs": [
    {
     "name": "stdout",
     "output_type": "stream",
     "text": [
      "점수를 입력해 주세요95\n",
      "A\n"
     ]
    }
   ],
   "source": [
    "#함수와 입출력 \n",
    "#1.학점산출함수 만들기\n",
    "def score(sc):\n",
    "    if sc>=80:\n",
    "        print('A')\n",
    "    elif sc>=50 and sc<=79:\n",
    "        print('B')\n",
    "    elif sc>=30 and sc<=49:\n",
    "        print('C')\n",
    "    elif sc<30:\n",
    "        print('F')\n",
    "score(int(input(\"점수를 입력해 주세요\")))        \n",
    "\n"
   ]
  },
  {
   "cell_type": "code",
   "execution_count": 31,
   "metadata": {},
   "outputs": [
    {
     "name": "stdout",
     "output_type": "stream",
     "text": [
      "숫자를 입력하여 주세요5\n",
      "FALSE\n"
     ]
    }
   ],
   "source": [
    "#2.짝수 판별 프로그램\n",
    "def even(num):\n",
    "    if num%2==0:\n",
    "        print(\"TRUE\")\n",
    "    elif num%2==1:\n",
    "        print(\"FALSE\")\n",
    "even(int(input(\"숫자를 입력하여 주세요\")))"
   ]
  },
  {
   "cell_type": "code",
   "execution_count": 33,
   "metadata": {},
   "outputs": [
    {
     "name": "stdout",
     "output_type": "stream",
     "text": [
      "주민번호를 입력해주세요:670823-2\n",
      "67 년생,\n",
      "여자\n"
     ]
    }
   ],
   "source": [
    "#3 주민등록번호 판별 프로그램\n",
    "def birth(num):\n",
    "    print(num[:2],\"년생,\")\n",
    "    if(num[7]=='1'):\n",
    "        print(\"남자\")\n",
    "    elif(num[7]=='2'):\n",
    "        print(\"여자\")\n",
    "birth(input(\"주민번호를 입력해주세요:\"))\n",
    "#년생 다음 바로 여자나 남자가 나오게 하는법을 모르겠습니다"
   ]
  },
  {
   "cell_type": "code",
   "execution_count": null,
   "metadata": {},
   "outputs": [],
   "source": [
    "#4,#5,#6 함수 부분에서 좀 더 공부를 하고 진행 하는것이 나을것 같아 조금더 공부하고 수행하도록 하겠습니다.\n",
    "#아직 함수 부분은 능숙하지 않아서 좀 더 공부하고 다음 과제에 탑재 하겠습니다"
   ]
  }
 ],
 "metadata": {
  "kernelspec": {
   "display_name": "Python 3",
   "language": "python",
   "name": "python3"
  },
  "language_info": {
   "codemirror_mode": {
    "name": "ipython",
    "version": 3
   },
   "file_extension": ".py",
   "mimetype": "text/x-python",
   "name": "python",
   "nbconvert_exporter": "python",
   "pygments_lexer": "ipython3",
   "version": "3.8.3"
  }
 },
 "nbformat": 4,
 "nbformat_minor": 4
}
