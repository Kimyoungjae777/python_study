{
 "cells": [
  {
   "cell_type": "code",
   "execution_count": 10,
   "metadata": {},
   "outputs": [
    {
     "name": "stdout",
     "output_type": "stream",
     "text": [
      "output: [1, 12, 18, 26, 39, 40]\n"
     ]
    }
   ],
   "source": [
    "import random\n",
    "import datetime\n",
    "#1 로또 번호 생성기 함수 만들기.(정렬까지)\n",
    "def lotto():\n",
    "    lotto_num=random.sample(range(0,46),6)#0~45 까지 6개의 난수를 선택 random모듈의 sample함수 사용\n",
    "    lotto_num=sorted(lotto_num,reverse=False) # 정렬 오름차순 reverse=True 는 내림차순\n",
    "    #sort 함수와 sorted 함수의 차이 sort 함수는 리스트를 정열하고 아무것도 반환하지 않음\n",
    "    #sorted 함수는 리스트를 정렬하고 그 정렬한 리스트를 복사하여 반환함\n",
    "    print('output:',lotto_num)\n",
    "lotto()\n",
    "    "
   ]
  },
  {
   "cell_type": "code",
   "execution_count": null,
   "metadata": {},
   "outputs": [],
   "source": [
    "#2.다음과 같은 계산기 코드가 있을 때, 상세하게 살을 덧붙이고, 예외처리와 모듈화를 진행하라.\n"
   ]
  },
  {
   "cell_type": "code",
   "execution_count": 60,
   "metadata": {},
   "outputs": [
    {
     "name": "stdout",
     "output_type": "stream",
     "text": [
      "문자의개수: 6\n",
      "가장큰 문자열: y\n",
      "문자열 역순 nohtyp\n"
     ]
    }
   ],
   "source": [
    "#3문자열 분석 함수\n",
    "def string_analysis(string):\n",
    "    string2=string\n",
    "    length=len(string2)\n",
    "    sorting=sorted(string2,reverse=True)#문자를 내림차순으로 정열\n",
    "    maxbig=sorting[0]#문자를 내림차순으로 정열한 것 중 가장 큰것은 [0]에 있다\n",
    "    reverse=string2[::-1]#데이터를 역순으로 불러온다\n",
    "    \n",
    "    print(\"문자의개수:\",length)\n",
    "    print(\"가장큰 문자열:\",maxbig)\n",
    "    print(\"문자열 역순\",reverse)\n",
    "    \n",
    "    \n",
    "string_analysis(\"python\")\n",
    "    "
   ]
  },
  {
   "cell_type": "code",
   "execution_count": 38,
   "metadata": {},
   "outputs": [
    {
     "ename": "TypeError",
     "evalue": "unsupported operand type(s) for +: 'builtin_function_or_method' and 'datetime.timedelta'",
     "output_type": "error",
     "traceback": [
      "\u001b[1;31m---------------------------------------------------------------------------\u001b[0m",
      "\u001b[1;31mTypeError\u001b[0m                                 Traceback (most recent call last)",
      "\u001b[1;32m<ipython-input-38-b42df012c81e>\u001b[0m in \u001b[0;36m<module>\u001b[1;34m\u001b[0m\n\u001b[0;32m      4\u001b[0m \u001b[0mnow\u001b[0m\u001b[1;33m=\u001b[0m\u001b[0mdatetime\u001b[0m\u001b[1;33m.\u001b[0m\u001b[0mdatetime\u001b[0m\u001b[1;33m.\u001b[0m\u001b[0mnow\u001b[0m\u001b[1;31m#현재시간을 나타내주는 함수\u001b[0m\u001b[1;33m\u001b[0m\u001b[1;33m\u001b[0m\u001b[0m\n\u001b[0;32m      5\u001b[0m \u001b[0mafter\u001b[0m\u001b[1;33m=\u001b[0m\u001b[0mdatetime\u001b[0m\u001b[1;33m.\u001b[0m\u001b[0mtimedelta\u001b[0m\u001b[1;33m(\u001b[0m\u001b[0mdays\u001b[0m\u001b[1;33m=\u001b[0m\u001b[1;36m49\u001b[0m\u001b[1;33m,\u001b[0m\u001b[0mhours\u001b[0m\u001b[1;33m=\u001b[0m\u001b[1;36m1\u001b[0m\u001b[1;33m,\u001b[0m\u001b[0mminutes\u001b[0m\u001b[1;33m=\u001b[0m\u001b[1;36m8\u001b[0m\u001b[1;33m,\u001b[0m\u001b[0mseconds\u001b[0m\u001b[1;33m=\u001b[0m\u001b[1;36m7\u001b[0m\u001b[1;33m)\u001b[0m\u001b[1;33m\u001b[0m\u001b[1;33m\u001b[0m\u001b[0m\n\u001b[1;32m----> 6\u001b[1;33m \u001b[0mtime\u001b[0m\u001b[1;33m=\u001b[0m\u001b[0mnow\u001b[0m\u001b[1;33m+\u001b[0m\u001b[0mafter\u001b[0m\u001b[1;33m\u001b[0m\u001b[1;33m\u001b[0m\u001b[0m\n\u001b[0m\u001b[0;32m      7\u001b[0m \u001b[1;33m\u001b[0m\u001b[0m\n\u001b[0;32m      8\u001b[0m \u001b[0mprint\u001b[0m\u001b[1;33m(\u001b[0m\u001b[1;34m\"현재:\"\u001b[0m\u001b[1;33m,\u001b[0m\u001b[0mnow\u001b[0m\u001b[1;33m.\u001b[0m\u001b[0mstrftime\u001b[0m\u001b[1;33m(\u001b[0m\u001b[1;34m\"%Y년,%m월,%일% %H시%M분%S초\"\u001b[0m\u001b[1;33m)\u001b[0m\u001b[1;33m)\u001b[0m\u001b[1;33m\u001b[0m\u001b[1;33m\u001b[0m\u001b[0m\n",
      "\u001b[1;31mTypeError\u001b[0m: unsupported operand type(s) for +: 'builtin_function_or_method' and 'datetime.timedelta'"
     ]
    }
   ],
   "source": [
    "#4 내장함수와 datetime 라이브러리를 이용하여 지금을 출력하고 ,49일 1시간 8분 7초후가 언제인지 출력하는 함수를 만드시오\n",
    "#현재 날짜와 시간 : datetime.datetime.now()\n",
    "def tt():\n",
    "    now=datetime.datetime.now#현재시간을 나타내주는 함수\n",
    "    after=datetime.timedelta(days=49,hours=1,minutes=8,seconds=7)\n",
    "    time=now+after\n",
    "    \n",
    "    print(\"현재:\",now.strftime(\"%Y년,%m월,%일% %H시%M분%S초\"))\n",
    "    print(\"미래:\",time.strftime(\"%Y년,%m월,%일% %H시%M분%S초\"))\n",
    "    \n",
    "#질문!!: 왜 출력이 안되는지 모르겠습니다\n"
   ]
  },
  {
   "cell_type": "code",
   "execution_count": 61,
   "metadata": {},
   "outputs": [
    {
     "name": "stdout",
     "output_type": "stream",
     "text": [
      "숫자 입력:4\n",
      "부호입력/\n",
      "숫자 입력:5\n",
      "4\n"
     ]
    }
   ],
   "source": [
    "#1주차 과제에서 못 했던것#\n",
    "#4.간단한 계산기 함수를 만들어라. 사칙연산과 나머지 연산이 되어야한다\n",
    "def calfunction():\n",
    "    num1=int(input(\"숫자 입력:\"))\n",
    "    sign=input(\"부호입력\")\n",
    "    num2=int(input(\"숫자 입력:\"))\n",
    "    \n",
    "    if sign=='+':\n",
    "        print(num1+num2)\n",
    "    elif sign=='-':\n",
    "        print(num1-num2)\n",
    "    elif sign==\"*\":\n",
    "        print(num1*num2)\n",
    "    elif sign=='/':\n",
    "        if(num1%num2==0):\n",
    "            print(num1/num2)\n",
    "        else:\n",
    "            print(num1%num2)\n",
    "calfunction()"
   ]
  },
  {
   "cell_type": "code",
   "execution_count": 62,
   "metadata": {},
   "outputs": [
    {
     "name": "stdout",
     "output_type": "stream",
     "text": [
      "투입금액을 입력하세요6800\n",
      "5000원:1개\n",
      "1000원:1개\n",
      "500원:1개\n",
      "100원:3개\n",
      "50원:0개\n",
      "10원:0개\n"
     ]
    }
   ],
   "source": [
    "#5거스름돈 함수를 만들어라. 금액을 입력하면 거스름돈을 출력해야한다.\n",
    "def change():\n",
    "    a=int(input(\"투입금액을 입력하세요\"))\n",
    "    list=[5000,1000,500,100,50,10]\n",
    "    for i in range (0,len(list)):\n",
    "        print(\"%d원:%d개\"% (list[i],a/list[i]))\n",
    "        a=a%list[i]\n",
    "change()\n",
    "    \n",
    "    "
   ]
  },
  {
   "cell_type": "code",
   "execution_count": null,
   "metadata": {},
   "outputs": [],
   "source": []
  }
 ],
 "metadata": {
  "kernelspec": {
   "display_name": "Python 3",
   "language": "python",
   "name": "python3"
  },
  "language_info": {
   "codemirror_mode": {
    "name": "ipython",
    "version": 3
   },
   "file_extension": ".py",
   "mimetype": "text/x-python",
   "name": "python",
   "nbconvert_exporter": "python",
   "pygments_lexer": "ipython3",
   "version": "3.8.3"
  }
 },
 "nbformat": 4,
 "nbformat_minor": 4
}
